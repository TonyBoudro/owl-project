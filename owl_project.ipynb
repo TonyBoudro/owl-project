{
 "cells": [
  {
   "cell_type": "markdown",
   "id": "207b59c5",
   "metadata": {},
   "source": [
    "# Overwatch League Project"
   ]
  },
  {
   "cell_type": "markdown",
   "id": "7098a669",
   "metadata": {},
   "source": [
    "## Project Overview\n",
    "\n",
    "The goal of this project is to derive meaningful insights from a dataset focused on eSports analytics. We want to assess each team's performance in a digestable format for both internal stakeholders and the league's public audience. The information will be presented in a comprehensive dashboard acting as a starting point for further analysis.\n",
    "\n",
    "This notebook explains the various manipulations performed on the original datasets to produce the final version used in Tableau.\n",
    "\n",
    "* The dashboard can be viewed here: [OWL 2018 Team-Specific Statistics](https://public.tableau.com/app/profile/anthony.boudreau/viz/OverwatchLeagueProject/OWL2018T-SStats)\n",
    "* The project's GitHub repository can be found here: [owl-project](https://github.com/TonyBoudro/owl-project)\n",
    "\n",
    "<!-- * See [Filters & Metrics](#Dashboard-Details) section for additional details about the dashboard. -->\n",
    "\n",
    "<!-- ![db_preview_small.png](attachment:db_preview_small.png) -->"
   ]
  },
  {
   "cell_type": "markdown",
   "id": "20ec6004",
   "metadata": {},
   "source": [
    "We will be using team & player statistics available on the 'Overwatch League Stats Lab' webpage.\n",
    "<br> Link: [https://overwatchleague.com/en-us/statslab](https://overwatchleague.com/en-us/statslab)\n",
    "\n",
    "Since this project involves joining fields from several 'Player Stats' datasets, we will be limiting the project's scope to the 2018 league results."
   ]
  },
  {
   "cell_type": "markdown",
   "id": "64ef1d51",
   "metadata": {},
   "source": [
    "For a better understanding of our data, we need to familiarize ourselves with the official rules of the league.\n",
    "<br> We'll be referencing 2 documents throughout this project:\n",
    "\n",
    "1. [Rules of Competition Summary for Season 2018](https://bnetcmsus-a.akamaihd.net/cms/content_entry_media/eo/EOC4AITZTVME1519148239333.pdf)\n",
    "2. [Summary of Official Rules and Code of Conduct for Season 2020](https://bnetcmsus-a.akamaihd.net/cms/page_media/wg/WG2YO9KJ0I5I1587056527743.pdf)\n",
    "\n",
    "\\**Some rules relating to map rotations were omitted from the 2018 Summary, but included in the 2020 version.*"
   ]
  },
  {
   "cell_type": "markdown",
   "id": "33ec3f53",
   "metadata": {},
   "source": [
    "#### Important OWL terms\n",
    "\n",
    "- Matches: Two competing teams play a series of four maps against each other. The team with the most map wins is crowned the victor. Should both teams end the series with an equal amount of wins, a fifth map will be played to determine the winners. These rules may change during special league events, such as championships.\n",
    "\n",
    "\n",
    "- Maps (or games): Referring to a standard competitive Overwatch game. Certain map types, such as control points, are played on sub-maps, based on the main map's theme and world location. To reduce ambiguity, all Overwatch games will be referred to as 'maps'.\n",
    "\n",
    "\n",
    "- Rounds: Each round, teams are placed on either the attacking or defending side of the map. For most map types, attackers must complete objectives while defenders prevent them from succceding. Once all objectives are completed or the timer runs out, both teams switch sides and run an additional round. To win a map, one team must earn more objective points than the opposing team. Map draws occur when both teams run out of time with the same amount of objective points earned after playing at least of 2 rounds.\n",
    "\n",
    "\n",
    "- Rounds on control maps: Both teams have the same objective each round. Control the center of the map as long as possible. The best two out of three rounds win. Control maps cannot end in draws. "
   ]
  },
  {
   "cell_type": "markdown",
   "id": "b041bc53",
   "metadata": {},
   "source": [
    "## 'Map Stats' - Data Manipulation Process"
   ]
  },
  {
   "cell_type": "markdown",
   "id": "af7214fb",
   "metadata": {},
   "source": [
    "### Step 1. Importing the 'Map Stats' dataset"
   ]
  },
  {
   "cell_type": "code",
   "execution_count": 1,
   "id": "1b7b6835",
   "metadata": {},
   "outputs": [],
   "source": [
    "# Importing numpy & pandas packages\n",
    "import numpy as np\n",
    "import pandas as pd"
   ]
  },
  {
   "cell_type": "code",
   "execution_count": 2,
   "id": "12f91e4b",
   "metadata": {},
   "outputs": [
    {
     "name": "stdout",
     "output_type": "stream",
     "text": [
      "  round_start_time  round_end_time          stage  match_id  game_number  \\\n",
      "0   01/11/18 00:12  01/11/18 00:20  2018: Stage 1     10223            1   \n",
      "1   01/11/18 00:22  01/11/18 00:27  2018: Stage 1     10223            1   \n",
      "2   01/11/18 00:34  01/11/18 00:38  2018: Stage 1     10223            2   \n",
      "3   01/11/18 00:40  01/11/18 00:44  2018: Stage 1     10223            2   \n",
      "4   01/11/18 00:46  01/11/18 00:49  2018: Stage 1     10223            2   \n",
      "\n",
      "          match_winner           map_winner            map_loser  \\\n",
      "0  Los Angeles Valiant  Los Angeles Valiant  San Francisco Shock   \n",
      "1  Los Angeles Valiant  Los Angeles Valiant  San Francisco Shock   \n",
      "2  Los Angeles Valiant  Los Angeles Valiant  San Francisco Shock   \n",
      "3  Los Angeles Valiant  Los Angeles Valiant  San Francisco Shock   \n",
      "4  Los Angeles Valiant  Los Angeles Valiant  San Francisco Shock   \n",
      "\n",
      "           map_name  map_round  ...        team_one_name        team_two_name  \\\n",
      "0            Dorado          1  ...  Los Angeles Valiant  San Francisco Shock   \n",
      "1            Dorado          2  ...  Los Angeles Valiant  San Francisco Shock   \n",
      "2  Temple of Anubis          1  ...  Los Angeles Valiant  San Francisco Shock   \n",
      "3  Temple of Anubis          2  ...  Los Angeles Valiant  San Francisco Shock   \n",
      "4  Temple of Anubis          3  ...  Los Angeles Valiant  San Francisco Shock   \n",
      "\n",
      "  attacker_payload_distance defender_payload_distance attacker_time_banked  \\\n",
      "0                  75.61505                   0.00000             0.000000   \n",
      "1                  75.64960                  75.61505           125.750570   \n",
      "2                   0.00000                   0.00000           250.492000   \n",
      "3                   0.00000                   0.00000           225.789030   \n",
      "4                   0.00000                   0.00000            36.396057   \n",
      "\n",
      "  defender_time_banked attacker_control_perecent  defender_control_perecent  \\\n",
      "0              240.000                       NaN                        NaN   \n",
      "1                0.000                       NaN                        NaN   \n",
      "2              240.000                       NaN                        NaN   \n",
      "3              250.492                       NaN                        NaN   \n",
      "4              250.492                       NaN                        NaN   \n",
      "\n",
      "   attacker_round_end_score  defender_round_end_score  \n",
      "0                         2                         0  \n",
      "1                         3                         2  \n",
      "2                         2                         0  \n",
      "3                         2                         2  \n",
      "4                         4                         2  \n",
      "\n",
      "[5 rows x 25 columns]\n"
     ]
    }
   ],
   "source": [
    "# Importing 'match_map_stats.csv'\n",
    "map_stats = pd.read_csv('match_map_stats.csv')\n",
    "\n",
    "# Ensure rounds are in chronological order\n",
    "map_stats = map_stats.sort_values('round_start_time', ascending=True)\n",
    "\n",
    "# Validate csv import\n",
    "# First exploration of the dataset\n",
    "print(map_stats.head())"
   ]
  },
  {
   "cell_type": "markdown",
   "id": "a9a71893",
   "metadata": {},
   "source": [
    "### Step 2. Limiting 'Map Stats' to Season 2018"
   ]
  },
  {
   "cell_type": "markdown",
   "id": "ce3ded9f",
   "metadata": {},
   "source": [
    "As mentioned previously, we want to limit the scope of the project to 2018.\n",
    "<br> To do so, we identify the year of the rounds played using 'round_start_time' and keep the entries meeting our criteria."
   ]
  },
  {
   "cell_type": "code",
   "execution_count": 3,
   "id": "5c4eb1ce",
   "metadata": {},
   "outputs": [
    {
     "name": "stdout",
     "output_type": "stream",
     "text": [
      "  round_start_time  year\n",
      "0   01/11/18 00:12  2018\n",
      "1   01/11/18 00:22  2018\n",
      "2   01/11/18 00:34  2018\n",
      "3   01/11/18 00:40  2018\n",
      "4   01/11/18 00:46  2018\n"
     ]
    }
   ],
   "source": [
    "# Add a new field indicating the year of the 'round_start_time' timestamp\n",
    "map_stats['year'] = pd.DatetimeIndex(map_stats['round_start_time']).year\n",
    "\n",
    "# Validate new field\n",
    "print(map_stats[['round_start_time', 'year']].head())"
   ]
  },
  {
   "cell_type": "code",
   "execution_count": 4,
   "id": "9ab03384",
   "metadata": {},
   "outputs": [
    {
     "name": "stdout",
     "output_type": "stream",
     "text": [
      "  round_start_time          stage\n",
      "0   01/11/18 00:12  2018: Stage 1\n",
      "1   01/11/18 00:22  2018: Stage 1\n",
      "2   01/11/18 00:34  2018: Stage 1\n",
      "3   01/11/18 00:40  2018: Stage 1\n",
      "4   01/11/18 00:46  2018: Stage 1\n",
      "     round_start_time               stage\n",
      "2665   07/28/18 20:48  2018: Championship\n",
      "2666   07/28/18 20:52  2018: Championship\n",
      "2667   07/28/18 21:18  2018: Championship\n",
      "2668   07/28/18 21:29  2018: Championship\n",
      "2669   07/28/18 21:37  2018: Championship\n"
     ]
    }
   ],
   "source": [
    "# Limit entries to matches played in 2018\n",
    "map_stats_2018 = map_stats[map_stats['year'] == 2018]\n",
    "\n",
    "# Check the first and last chronological values of our dataframe\n",
    "print(map_stats_2018[['round_start_time','stage']].head())\n",
    "print(map_stats_2018[['round_start_time','stage']].tail())"
   ]
  },
  {
   "cell_type": "markdown",
   "id": "34d2f74a",
   "metadata": {},
   "source": [
    "We are left with rounds from 5 distinct stages:\n",
    "\n",
    "- 2018: Stage 1 through 4\n",
    "- 2018: Championship"
   ]
  },
  {
   "cell_type": "markdown",
   "id": "6c72d753",
   "metadata": {},
   "source": [
    "### Step 3. Adding map types using 'Player Stats'"
   ]
  },
  {
   "cell_type": "markdown",
   "id": "49343376",
   "metadata": {},
   "source": [
    "An obvious way to add map types to our dataframe would be to create a dictionary from a list of playable maps and associate each map to its respective map type. While this may be more convenient for this exercise, joining 'Player Stats' with our current dataframe gives us the flexibility of adding player information at a later point.\n",
    "\n",
    "Since each 'Player Stats' dataset is split into stages, we combine the relevant ones from 2018 together."
   ]
  },
  {
   "cell_type": "code",
   "execution_count": 5,
   "id": "b08ce496",
   "metadata": {},
   "outputs": [
    {
     "name": "stdout",
     "output_type": "stream",
     "text": [
      "       start_time  match_id                       stage map_type map_name  \\\n",
      "0  1/11/2018 0:12     10223  Overwatch League - Stage 1  PAYLOAD   Dorado   \n",
      "1  1/11/2018 0:12     10223  Overwatch League - Stage 1  PAYLOAD   Dorado   \n",
      "2  1/11/2018 0:12     10223  Overwatch League - Stage 1  PAYLOAD   Dorado   \n",
      "3  1/11/2018 0:12     10223  Overwatch League - Stage 1  PAYLOAD   Dorado   \n",
      "4  1/11/2018 0:12     10223  Overwatch League - Stage 1  PAYLOAD   Dorado   \n",
      "\n",
      "      player                 team             stat_name        hero  \\\n",
      "0  Agilities  Los Angeles Valiant       All Damage Done  All Heroes   \n",
      "1  Agilities  Los Angeles Valiant               Assists  All Heroes   \n",
      "2  Agilities  Los Angeles Valiant   Barrier Damage Done  All Heroes   \n",
      "3  Agilities  Los Angeles Valiant  Damage - Quick Melee  All Heroes   \n",
      "4  Agilities  Los Angeles Valiant                Deaths  All Heroes   \n",
      "\n",
      "    stat_amount  \n",
      "0  18079.206920  \n",
      "1     17.000000  \n",
      "2   2893.659185  \n",
      "3    443.204010  \n",
      "4     11.000000  \n"
     ]
    }
   ],
   "source": [
    "# Create dataframes of 'Player Stats' from each stage\n",
    "player_stats_s1 = pd.read_csv('phs_2018/phs_2018_stage_1.csv')\n",
    "player_stats_s2 = pd.read_csv('phs_2018/phs_2018_stage_2.csv')\n",
    "player_stats_s3 = pd.read_csv('phs_2018/phs_2018_stage_3.csv')\n",
    "player_stats_s4 = pd.read_csv('phs_2018/phs_2018_stage_4.csv')\n",
    "player_stats_po = pd.read_csv('phs_2018/phs_2018_playoffs.csv')\n",
    "\n",
    "# First exploration of 'Player Stats'\n",
    "print(player_stats_s1.head())"
   ]
  },
  {
   "cell_type": "code",
   "execution_count": 6,
   "id": "a1098972",
   "metadata": {},
   "outputs": [
    {
     "name": "stdout",
     "output_type": "stream",
     "text": [
      "       start_time  match_id map_type\n",
      "0  1/11/2018 0:12     10223  Payload\n",
      "1  1/11/2018 0:12     10223  Payload\n",
      "2  1/11/2018 0:12     10223  Payload\n",
      "3  1/11/2018 0:12     10223  Payload\n",
      "4  1/11/2018 0:12     10223  Payload\n",
      "              start_time  match_id map_type\n",
      "1124413  7/28/2018 21:18     13134   Hybrid\n",
      "1124414  7/28/2018 21:18     13134   Hybrid\n",
      "1124415  7/28/2018 21:18     13134   Hybrid\n",
      "1124416  7/28/2018 21:18     13134   Hybrid\n",
      "1124417  7/28/2018 21:18     13134   Hybrid\n"
     ]
    }
   ],
   "source": [
    "# Union files together\n",
    "player_stats_all = pd.concat([player_stats_s1, player_stats_s2, player_stats_s3, player_stats_s4, player_stats_po], ignore_index=True)\n",
    "\n",
    "# Change 'map_type' capitalization\n",
    "player_stats_all['map_type'] = player_stats_all['map_type'].str.capitalize()\n",
    "\n",
    "# 1. Check first and last match timestamps from unioned file\n",
    "# 2. Validate 'map_type' capitalization change\n",
    "print(player_stats_all[['start_time',\n",
    "                        'match_id',\n",
    "                        'map_type']].head()) # From 01/11/2018\n",
    "\n",
    "print(player_stats_all[['start_time',\n",
    "                        'match_id',\n",
    "                        'map_type']].tail()) # To 07/28/2018"
   ]
  },
  {
   "cell_type": "markdown",
   "id": "1eb096a5",
   "metadata": {},
   "source": [
    "Instead of performing a dodgy inner join between datasets, forcing a '1 to 1' relationship, we create a subset of 'Player Stats', matching the number of rows from 'Map Stats'. We group data from each map played and index data entries in chronological order. This acts as the missing 'map_round' field from 'Player Stats'."
   ]
  },
  {
   "cell_type": "markdown",
   "id": "188ece26",
   "metadata": {},
   "source": [
    "To ensure that maps could not be played twice in a match, creating potential issues during the grouping process, we've consulted both rule books.\n",
    "<br> While this information was omitted from the 2018 version, the 2020 rule book states:\n",
    "\n",
    "* \"No map may be played twice in any match.\" - Section 5.8 Season Playoffs (a) Play-in Tournament (v)\n",
    "\n",
    "We assume this holds true for 2018 as well. With this information, we can confirm that each round played acts as a unique 'map_round' identifier."
   ]
  },
  {
   "cell_type": "code",
   "execution_count": 7,
   "id": "ccd05815",
   "metadata": {},
   "outputs": [
    {
     "name": "stdout",
     "output_type": "stream",
     "text": [
      "     match_id          map_name  map_round\n",
      "785     10223            Dorado      786.0\n",
      "786     10223  Temple of Anubis        1.0\n",
      "787     10223  Temple of Anubis        2.0\n",
      "788     10223  Temple of Anubis        3.0\n",
      "789     10223  Temple of Anubis        4.0\n",
      "      match_id map_name  map_round\n",
      "3603     10223  Numbani      866.0\n",
      "3604     10224   Dorado        1.0\n",
      "3605     10224   Dorado        2.0\n",
      "3606     10224   Dorado        3.0\n",
      "3607     10224   Dorado        4.0\n",
      "   match_id map_name  map_round\n",
      "0     10223   Dorado          1\n",
      "1     10223   Dorado          2\n",
      "2     10223   Dorado          3\n",
      "3     10223   Dorado          4\n",
      "4     10223   Dorado          5\n"
     ]
    }
   ],
   "source": [
    "# Indexing each data entry for every map played\n",
    "# Acting as 'map_round' key when joining data with 'map_stats_2018'\n",
    "player_stats_all['map_round'] = player_stats_all.groupby(['match_id','map_name'])['match_id'].rank(method='first')\n",
    "\n",
    "\n",
    "# Validate row indexing\n",
    "# We want to verify the enumeration resets properly\n",
    "\n",
    "# Validate index reset on maps\n",
    "# The 2nd map played in the first match appears at row 786\n",
    "print(player_stats_all.iloc[785:,:][['match_id',\n",
    "                                     'map_name',\n",
    "                                     'map_round']].head())\n",
    "\n",
    "# Validate index reset on matches\n",
    "# The 2nd match appears at row 3604\n",
    "print(player_stats_all.iloc[3603:,:][['match_id',\n",
    "                                      'map_name',\n",
    "                                      'map_round']].head())\n",
    "\n",
    "# Convert float value to integer\n",
    "player_stats_all['map_round'] = pd.to_numeric(player_stats_all['map_round'], downcast='integer')\n",
    "\n",
    "# Validate data type change\n",
    "print(player_stats_all[['match_id',\n",
    "                        'map_name',\n",
    "                        'map_round']].head())"
   ]
  },
  {
   "cell_type": "code",
   "execution_count": 8,
   "id": "55fed5a6",
   "metadata": {},
   "outputs": [
    {
     "name": "stdout",
     "output_type": "stream",
     "text": [
      "   match_id          map_name  map_round map_type\n",
      "0     10223            Dorado          1  Payload\n",
      "1     10223            Dorado          2  Payload\n",
      "2     10223  Temple of Anubis          1  Assault\n",
      "3     10223  Temple of Anubis          2  Assault\n",
      "4     10223  Temple of Anubis          3  Assault\n",
      "2670\n",
      "True\n"
     ]
    }
   ],
   "source": [
    "# Inner join 'Player Stats' on 'Map Stats'\n",
    "# _wmt -> with 'map_type'\n",
    "maps_stats_2018_wmt = pd.merge(map_stats_2018, player_stats_all[['match_id',\n",
    "                                                                 'map_name',\n",
    "                                                                 'map_round',\n",
    "                                                                 'map_type']], how='inner', on=['match_id', 'map_name', 'map_round'])\n",
    "\n",
    "# Validating merge\n",
    "print(maps_stats_2018_wmt[['match_id',\n",
    "                           'map_name',\n",
    "                           'map_round',\n",
    "                           'map_type']].head())\n",
    "\n",
    "# Counting entries for a '1 to 1' join relationship\n",
    "print(len(maps_stats_2018_wmt.index))\n",
    "\n",
    "# Ensuring all entries were joined\n",
    "print(len(maps_stats_2018_wmt.index) == len(map_stats_2018.index))"
   ]
  },
  {
   "cell_type": "markdown",
   "id": "f247bedd",
   "metadata": {},
   "source": [
    "### Step 4. Modify 'Map Stats' data layout"
   ]
  },
  {
   "cell_type": "markdown",
   "id": "7d4a5d24",
   "metadata": {},
   "source": [
    "Currently, each row indicates round results related to both competing teams. This data layout makes it difficult to perform team aggregations. We need a more granular dataset. To do so, we duplicate each row, assigning one per team, and adjust the table's field values to reflect team results rather than round results."
   ]
  },
  {
   "cell_type": "code",
   "execution_count": 9,
   "id": "c1e2d607",
   "metadata": {},
   "outputs": [
    {
     "name": "stdout",
     "output_type": "stream",
     "text": [
      "2670\n",
      "5340\n",
      "Index(['round_start_time', 'round_end_time', 'stage', 'match_id',\n",
      "       'game_number', 'match_winner', 'map_winner', 'map_loser', 'map_name',\n",
      "       'map_round', 'winning_team_final_map_score',\n",
      "       'losing_team_final_map_score', 'control_round_name', 'Attacker',\n",
      "       'Defender', 'team_one_name', 'team_two_name',\n",
      "       'attacker_payload_distance', 'defender_payload_distance',\n",
      "       'attacker_time_banked', 'defender_time_banked',\n",
      "       'attacker_control_perecent', 'defender_control_perecent',\n",
      "       'attacker_round_end_score', 'defender_round_end_score', 'year',\n",
      "       'map_type', 'team_name'],\n",
      "      dtype='object')\n",
      "     round_start_time  match_id  game_number  map_round            team_name\n",
      "0      01/11/18 00:12     10223            1          1  Los Angeles Valiant\n",
      "2670   01/11/18 00:12     10223            1          1  San Francisco Shock\n",
      "1      01/11/18 00:22     10223            1          2  Los Angeles Valiant\n",
      "2671   01/11/18 00:22     10223            1          2  San Francisco Shock\n",
      "2      01/11/18 00:34     10223            2          1  Los Angeles Valiant\n"
     ]
    }
   ],
   "source": [
    "# Create new dataframe for 'team one'\n",
    "# deep=True -> Modifications to the data or indices of the copy will not be reflected in the original object\n",
    "maps_stats_2018_wmt_t1 = maps_stats_2018_wmt.copy(deep=True)\n",
    "\n",
    "# Designate 'team one' as the dataframe's main row  \n",
    "maps_stats_2018_wmt_t1['team_name'] = maps_stats_2018_wmt_t1['team_one_name']\n",
    "\n",
    "# Create new dataframe for 'team two'\n",
    "maps_stats_2018_wmt_t2 = maps_stats_2018_wmt.copy(deep=True)\n",
    "\n",
    "# Designate 'team two' as the dataframe's main row\n",
    "maps_stats_2018_wmt_t2['team_name'] = maps_stats_2018_wmt_t2['team_two_name']\n",
    "\n",
    "# Union both new dataframes\n",
    "# ignore_index=True -> To validate proper union, the index will alternate between dataframes when sorted\n",
    "maps_stats_2018_wmt_team = pd.concat([maps_stats_2018_wmt_t1, maps_stats_2018_wmt_t2], ignore_index=True)\n",
    "\n",
    "# Sort new table chronologically\n",
    "maps_stats_2018_wmt_team = maps_stats_2018_wmt_team.sort_values(['round_start_time', 'team_one_name'], ascending=True)\n",
    "\n",
    "\n",
    "# Validate union\n",
    "\n",
    "# Check original number of rows\n",
    "print(len(maps_stats_2018_wmt.index))\n",
    "\n",
    "# Check new number of rows\n",
    "print(len(maps_stats_2018_wmt_team.index))\n",
    "\n",
    "# Check new 'team_name' field\n",
    "print(maps_stats_2018_wmt_team.columns)\n",
    "\n",
    "# Check alternating indexes & team names\n",
    "print(maps_stats_2018_wmt_team[['round_start_time',\n",
    "                                'match_id',\n",
    "                                'game_number',\n",
    "                                'map_round',\n",
    "                                'team_name']].head())"
   ]
  },
  {
   "cell_type": "markdown",
   "id": "aceb4562",
   "metadata": {},
   "source": [
    "#### Validation results\n",
    "1. Check original & new row numbers: As intended, the number of entries has doubled. Indicating that both dataframes were combined.\n",
    "\n",
    "\n",
    "2. Check new 'team_name' field: As intended, a new field has been added at the end of the new dataframe titled 'team_name'.\n",
    "\n",
    "\n",
    "3. Check alternating indexes & team names: Sorting the new dataframe chronologically places each row of the 'team two' dataframe under its respective 'team one' counterpart."
   ]
  },
  {
   "cell_type": "code",
   "execution_count": 10,
   "id": "79b87303",
   "metadata": {},
   "outputs": [
    {
     "name": "stdout",
     "output_type": "stream",
     "text": [
      "  round_start_time  match_id  game_number  map_round            team_name\n",
      "0   01/11/18 00:12     10223            1          1  Los Angeles Valiant\n",
      "1   01/11/18 00:12     10223            1          1  San Francisco Shock\n",
      "2   01/11/18 00:22     10223            1          2  Los Angeles Valiant\n",
      "3   01/11/18 00:22     10223            1          2  San Francisco Shock\n",
      "4   01/11/18 00:34     10223            2          1  Los Angeles Valiant\n"
     ]
    }
   ],
   "source": [
    "# Reset dataframe index\n",
    "map_stats_v2 = maps_stats_2018_wmt_team.reset_index(drop=True)\n",
    "\n",
    "# Validate reset\n",
    "print(map_stats_v2[['round_start_time',\n",
    "                    'match_id',\n",
    "                    'game_number',\n",
    "                    'map_round',\n",
    "                    'team_name']].head())"
   ]
  },
  {
   "cell_type": "markdown",
   "id": "907f410a",
   "metadata": {},
   "source": [
    "### Step 5. 'Maps Stats' field manipulation"
   ]
  },
  {
   "cell_type": "markdown",
   "id": "85c6fca3",
   "metadata": {},
   "source": [
    "#### Step 5.1 Adding a match date field\n",
    "\n",
    "The exact time at which matches occur aren't relevant for our analysis. We're simply interested in having a date reference for each match played. Should a match's time interval overlap two consecutive days, i.e., matches starting on one day and ending on the next, we only consider the starting date."
   ]
  },
  {
   "cell_type": "code",
   "execution_count": 11,
   "id": "aef9ac1b",
   "metadata": {},
   "outputs": [
    {
     "name": "stdout",
     "output_type": "stream",
     "text": [
      "   match_id  game_number  map_round min_round_start_time round_start_time\n",
      "0     10223            1          1       01/11/18 00:12   01/11/18 00:12\n",
      "1     10223            1          1       01/11/18 00:12   01/11/18 00:12\n",
      "2     10223            1          2       01/11/18 00:12   01/11/18 00:22\n",
      "3     10223            1          2       01/11/18 00:12   01/11/18 00:22\n",
      "4     10223            2          1       01/11/18 00:12   01/11/18 00:34\n",
      "    match_id  game_number  map_round min_round_start_time round_start_time\n",
      "21     10223            4          3       01/11/18 00:12   01/11/18 01:41\n",
      "22     10224            1          1       01/11/18 02:08   01/11/18 02:08\n",
      "23     10224            1          1       01/11/18 02:08   01/11/18 02:08\n",
      "24     10224            1          2       01/11/18 02:08   01/11/18 02:15\n",
      "25     10224            1          2       01/11/18 02:08   01/11/18 02:15\n"
     ]
    }
   ],
   "source": [
    "# Add new field indicating the start datetime of a match\n",
    "map_stats_v2['min_round_start_time'] = map_stats_v2.groupby('match_id')['round_start_time'].transform('min')\n",
    "\n",
    "\n",
    "# Validate new field\n",
    "\n",
    "# Check the constancy of the first few values\n",
    "print(map_stats_v2[['match_id',\n",
    "                    'game_number',\n",
    "                    'map_round',\n",
    "                    'min_round_start_time',\n",
    "                    'round_start_time']].head())\n",
    "\n",
    "# The 2nd match appears at row 22\n",
    "print(map_stats_v2.iloc[21:,:][['match_id',\n",
    "                                'game_number',\n",
    "                                'map_round',\n",
    "                                'min_round_start_time',\n",
    "                                'round_start_time']].head())"
   ]
  },
  {
   "cell_type": "code",
   "execution_count": 12,
   "id": "deca92dc",
   "metadata": {},
   "outputs": [
    {
     "name": "stdout",
     "output_type": "stream",
     "text": [
      "     match_id  game_number min_round_start_time round_start_time        date\n",
      "123     10228            4       01/12/18 01:59   01/12/18 03:22  2018-01-12\n",
      "124     10229            1       01/13/18 00:10   01/13/18 00:10  2018-01-13\n",
      "125     10229            1       01/13/18 00:10   01/13/18 00:10  2018-01-13\n",
      "126     10229            1       01/13/18 00:10   01/13/18 00:19  2018-01-13\n",
      "127     10229            1       01/13/18 00:10   01/13/18 00:19  2018-01-13\n"
     ]
    }
   ],
   "source": [
    "# Add new field\n",
    "# Convert datetime value of 'min_round_start_time' to a date only\n",
    "map_stats_v2['date'] = pd.to_datetime(map_stats_v2['min_round_start_time']).dt.date\n",
    "\n",
    "# Validate new field\n",
    "# The 2nd day of matches appears at row 124\n",
    "print(map_stats_v2.iloc[123:,:][['match_id',\n",
    "                                 'game_number',\n",
    "                                 'min_round_start_time',\n",
    "                                 'round_start_time',\n",
    "                                 'date']].head())"
   ]
  },
  {
   "cell_type": "markdown",
   "id": "77121fd3",
   "metadata": {},
   "source": [
    "#### Step 5.2 Adding match & map length fields\n",
    "\n",
    "We would also like to know how long matches and map games lasted. Using 'round_start_time' & 'round_end_time', we approximate these results using the sum of round lengths."
   ]
  },
  {
   "cell_type": "code",
   "execution_count": 13,
   "id": "261adb6c",
   "metadata": {},
   "outputs": [
    {
     "name": "stdout",
     "output_type": "stream",
     "text": [
      "round_start_time    object\n",
      "round_end_time      object\n",
      "dtype: object\n",
      "date                           object\n",
      "round_start_time_dt    datetime64[ns]\n",
      "round_end_time_dt      datetime64[ns]\n",
      "round_length_sec              float64\n",
      "dtype: object\n",
      "         date round_start_time_dt   round_end_time_dt  round_length_sec\n",
      "0  2018-01-11 2018-01-11 00:12:00 2018-01-11 00:20:00             480.0\n",
      "1  2018-01-11 2018-01-11 00:12:00 2018-01-11 00:20:00             480.0\n",
      "2  2018-01-11 2018-01-11 00:22:00 2018-01-11 00:27:00             300.0\n",
      "3  2018-01-11 2018-01-11 00:22:00 2018-01-11 00:27:00             300.0\n",
      "4  2018-01-11 2018-01-11 00:34:00 2018-01-11 00:38:00             240.0\n"
     ]
    }
   ],
   "source": [
    "# Check 'round_start_time' & 'round_end_time' data types\n",
    "print(map_stats_v2[['round_start_time','round_end_time']].dtypes)\n",
    "\n",
    "# Dataframe objects cannot be used in datetime calculations\n",
    "\n",
    "# Convert 'round_start_time' to a datetime data type\n",
    "# infer_datetime_format=True -> Attempt to infer the format of the datetime strings\n",
    "map_stats_v2['round_start_time_dt'] = pd.to_datetime(map_stats_v2['round_start_time'], infer_datetime_format=True)\n",
    "\n",
    "# Convert 'round_end_time' to a datetime data type\n",
    "map_stats_v2['round_end_time_dt'] = pd.to_datetime(map_stats_v2['round_end_time'], infer_datetime_format=True)\n",
    "\n",
    "# Subsctract 'round_start_time_dt' from 'round_end_time_dt'\n",
    "# Return round length in seconds\n",
    "map_stats_v2['round_length_sec'] = (map_stats_v2['round_end_time_dt']\n",
    "                                    - map_stats_v2['round_start_time_dt']).dt.total_seconds()\n",
    "\n",
    "# Validate new fields and their data types\n",
    "print(map_stats_v2.iloc[:,-4:].dtypes)\n",
    "print(map_stats_v2.iloc[:,-4:].head())"
   ]
  },
  {
   "cell_type": "code",
   "execution_count": 14,
   "id": "a8956591",
   "metadata": {
    "scrolled": true
   },
   "outputs": [
    {
     "name": "stdout",
     "output_type": "stream",
     "text": [
      "    match_id  game_number  game_length_sec  map_round  round_length_sec\n",
      "0      10223            1            780.0          1             480.0\n",
      "2      10223            1            780.0          2             300.0\n",
      "4      10223            2            960.0          1             240.0\n",
      "6      10223            2            960.0          2             240.0\n",
      "8      10223            2            960.0          3             180.0\n",
      "10     10223            2            960.0          4             300.0\n",
      "12     10223            3            780.0          1             300.0\n",
      "14     10223            3            780.0          2             180.0\n",
      "16     10223            3            780.0          3             300.0\n",
      "18     10223            4            660.0          1             420.0\n",
      "20     10223            4            660.0          3             240.0\n",
      "    match_id  match_length_sec  game_number  game_length_sec\n",
      "0      10223            3180.0            1            780.0\n",
      "2      10223            3180.0            1            780.0\n",
      "4      10223            3180.0            2            960.0\n",
      "6      10223            3180.0            2            960.0\n",
      "8      10223            3180.0            2            960.0\n",
      "10     10223            3180.0            2            960.0\n",
      "12     10223            3180.0            3            780.0\n",
      "14     10223            3180.0            3            780.0\n",
      "16     10223            3180.0            3            780.0\n",
      "18     10223            3180.0            4            660.0\n",
      "20     10223            3180.0            4            660.0\n"
     ]
    }
   ],
   "source": [
    "# Sum round lengths for each map, i.e., for each 'match_id' + 'game_number'\n",
    "map_stats_v2['game_length_sec'] = map_stats_v2.groupby(['match_id', 'game_number', 'team_name'])['round_length_sec'].transform('sum')\n",
    "\n",
    "# Sum round lengths for each match, i.e., for each 'match_id'\n",
    "map_stats_v2['match_length_sec'] = map_stats_v2.groupby(['match_id', 'team_name'])['round_length_sec'].transform('sum')\n",
    "\n",
    "\n",
    "# Validate new column values from one team of a match\n",
    "# 'match_id' = 10223\n",
    "# 'team_name' = 'Los Angeles Valiant'\n",
    "\n",
    "# Validate 'game_length_sec' field\n",
    "print(map_stats_v2[(map_stats_v2['team_name'] == 'Los Angeles Valiant') & (map_stats_v2['match_id'] == 10223)][['match_id', 'game_number', 'game_length_sec', 'map_round', 'round_length_sec']])\n",
    "\n",
    "# Validate 'match_length_sec' field\n",
    "print(map_stats_v2[(map_stats_v2['team_name'] == 'Los Angeles Valiant') & (map_stats_v2['match_id'] == 10223)][['match_id', 'match_length_sec', 'game_number', 'game_length_sec']])"
   ]
  },
  {
   "cell_type": "markdown",
   "id": "4f20caaa",
   "metadata": {},
   "source": [
    "- The rounds lasted between 3 min. (180 sec.) and 8 min. (480 sec.)\n",
    "    - 'game_length_sec' values equate to the sum of the corresponding 'round_length_sec' fields.\n",
    "<br><br>\n",
    "- The match itself lasted approximately 53 min. (3180 sec.) with 4 maps played, ranging between 11 min. (660 sec.) and 16 min. (960 sec.)\n",
    "    - 'match_length_sec' values equate to the sum of the corresponding 'game_length_sec' fields."
   ]
  },
  {
   "cell_type": "markdown",
   "id": "d0a0a972",
   "metadata": {},
   "source": [
    "#### Step 5.3 Modify existing fields to reflect the new data layout\n",
    "\n",
    "Entries now designate round results for specific teams. The field names and their corresponding values should reflect this change.\n",
    "\n",
    "These changes include the following:\n",
    "\n",
    "1. A designated field for the opposing team, regardless of the outcome.\n",
    "2. A single field indicating the team's side, i.e., attacking or defending.\n",
    "3. Round scores only related to an entry's designated team.\n",
    "4. Outcome fields returning an outcome result instead of a team name."
   ]
  },
  {
   "cell_type": "code",
   "execution_count": 15,
   "id": "9017b21a",
   "metadata": {},
   "outputs": [
    {
     "name": "stdout",
     "output_type": "stream",
     "text": [
      "   match_id  map_round            team_name   opposing_team_name\n",
      "0     10223          1  Los Angeles Valiant  San Francisco Shock\n",
      "1     10223          1  San Francisco Shock  Los Angeles Valiant\n",
      "2     10223          2  Los Angeles Valiant  San Francisco Shock\n",
      "3     10223          2  San Francisco Shock  Los Angeles Valiant\n",
      "4     10223          1  Los Angeles Valiant  San Francisco Shock\n"
     ]
    }
   ],
   "source": [
    "# 1. A designated field for the opposing team, regardless of the outcome.\n",
    "\n",
    "# IF condition where the 'opposing_team_name' must not be the 'team_name' found in either 'team_one_name' or 'team_two_name'.\n",
    "map_stats_v2['opposing_team_name'] = np.where(map_stats_v2['team_name'] == map_stats_v2['team_one_name'],\n",
    "                                              map_stats_v2['team_two_name'],\n",
    "                                              map_stats_v2['team_one_name'])\n",
    "\n",
    "# Validate new column\n",
    "print(map_stats_v2[['match_id', 'map_round', 'team_name', 'opposing_team_name']].head())"
   ]
  },
  {
   "cell_type": "code",
   "execution_count": 16,
   "id": "0c5abd26",
   "metadata": {},
   "outputs": [
    {
     "name": "stdout",
     "output_type": "stream",
     "text": [
      "   match_id  map_round            team_name  map_side             Attacker\n",
      "0     10223          1  Los Angeles Valiant  Defender  San Francisco Shock\n",
      "1     10223          1  San Francisco Shock  Attacker  San Francisco Shock\n",
      "2     10223          2  Los Angeles Valiant  Attacker  Los Angeles Valiant\n",
      "3     10223          2  San Francisco Shock  Defender  Los Angeles Valiant\n",
      "4     10223          1  Los Angeles Valiant  Defender  San Francisco Shock\n"
     ]
    }
   ],
   "source": [
    "# 2. A single field indicating the team's side, i.e., attacking or defending.\n",
    "\n",
    "# IF condition indicating the side of map the team is playing on.\n",
    "map_stats_v2['map_side'] = np.where(map_stats_v2['team_name'] == map_stats_v2['Attacker'],\n",
    "                                    'Attacker',\n",
    "                                    'Defender')\n",
    "\n",
    "# Validate new column\n",
    "print(map_stats_v2[['match_id', 'map_round', 'team_name', 'map_side', 'Attacker']].head())"
   ]
  },
  {
   "cell_type": "code",
   "execution_count": 17,
   "id": "9cab226a",
   "metadata": {},
   "outputs": [
    {
     "name": "stdout",
     "output_type": "stream",
     "text": [
      "   match_id  map_round            team_name  map_side  round_end_score\n",
      "0     10223          1  Los Angeles Valiant  Defender                0\n",
      "1     10223          1  San Francisco Shock  Attacker                2\n",
      "2     10223          2  Los Angeles Valiant  Attacker                3\n",
      "3     10223          2  San Francisco Shock  Defender                2\n",
      "4     10223          1  Los Angeles Valiant  Defender                0\n"
     ]
    }
   ],
   "source": [
    "# 3. Round scores only relating to an entry's designated team.\n",
    "\n",
    "# IF condition indicating the round end score of the designated team.\n",
    "# *All '_end_score' fields indicate the cumulative score of a given game after each round.\n",
    "map_stats_v2['round_end_score'] = np.where(map_stats_v2['team_name'] == map_stats_v2['Attacker'],\n",
    "                                           map_stats_v2['attacker_round_end_score'],\n",
    "                                           map_stats_v2['defender_round_end_score'])\n",
    "\n",
    "# Validate new column\n",
    "print(map_stats_v2[['match_id', 'map_round', 'team_name', 'map_side', 'round_end_score']].head())"
   ]
  },
  {
   "cell_type": "code",
   "execution_count": 18,
   "id": "3ece2941",
   "metadata": {},
   "outputs": [
    {
     "name": "stdout",
     "output_type": "stream",
     "text": [
      "             team_name          map_name  map_round  round_end_score\n",
      "0  Los Angeles Valiant            Dorado          1                0\n",
      "1  San Francisco Shock            Dorado          1                2\n",
      "2  Los Angeles Valiant            Dorado          2                3\n",
      "3  San Francisco Shock            Dorado          2                2\n",
      "4  Los Angeles Valiant  Temple of Anubis          1                0\n"
     ]
    }
   ],
   "source": [
    "# 4. Outcome fields returning an outcome result instead of a team name.\n",
    "\n",
    "# New field indicating the match outcome for 'team_name'\n",
    "# Binary outcome -> No draws possible\n",
    "map_stats_v2['match_outcome'] = np.where(map_stats_v2['team_name'] == map_stats_v2['match_winner'], 'Win', 'Lose')\n",
    "\n",
    "# New field indicating the map outcome for 'team_name'\n",
    "# Ternary outcome\n",
    "map_stats_v2.loc[map_stats_v2['map_winner'] == map_stats_v2['team_name'], 'map_outcome'] = 'Win'\n",
    "map_stats_v2.loc[map_stats_v2['map_winner'] == 'draw', 'map_outcome'] = 'Draw'\n",
    "map_stats_v2.loc[map_stats_v2['map_winner'] == map_stats_v2['opposing_team_name'], 'map_outcome'] = 'Lose'\n",
    "\n",
    "# Validate new column\n",
    "print(map_stats_v2[['team_name',\n",
    "                    'map_name',\n",
    "                    'map_round',\n",
    "                    'round_end_score']].head())"
   ]
  },
  {
   "cell_type": "markdown",
   "id": "37211e93",
   "metadata": {},
   "source": [
    "### Step 6. Clean dataframe & field reordering"
   ]
  },
  {
   "cell_type": "markdown",
   "id": "bce24e08",
   "metadata": {},
   "source": [
    "The last step is removing redundant or unecessary fields and ordering the remainder in a logical manner. This facilitates data exploration for end-users and other analysts."
   ]
  },
  {
   "cell_type": "code",
   "execution_count": 19,
   "id": "09005043",
   "metadata": {
    "scrolled": false
   },
   "outputs": [
    {
     "name": "stdout",
     "output_type": "stream",
     "text": [
      "Index(['round_start_time', 'round_end_time', 'stage', 'match_id',\n",
      "       'game_number', 'match_winner', 'map_winner', 'map_loser', 'map_name',\n",
      "       'map_round', 'winning_team_final_map_score',\n",
      "       'losing_team_final_map_score', 'control_round_name', 'Attacker',\n",
      "       'Defender', 'team_one_name', 'team_two_name',\n",
      "       'attacker_payload_distance', 'defender_payload_distance',\n",
      "       'attacker_time_banked', 'defender_time_banked',\n",
      "       'attacker_control_perecent', 'defender_control_perecent',\n",
      "       'attacker_round_end_score', 'defender_round_end_score', 'year',\n",
      "       'map_type', 'team_name', 'min_round_start_time', 'date',\n",
      "       'round_start_time_dt', 'round_end_time_dt', 'round_length_sec',\n",
      "       'game_length_sec', 'match_length_sec', 'opposing_team_name', 'map_side',\n",
      "       'round_end_score', 'match_outcome', 'map_outcome'],\n",
      "      dtype='object')\n"
     ]
    }
   ],
   "source": [
    "# View all table columns\n",
    "print(map_stats_v2.columns)"
   ]
  },
  {
   "cell_type": "markdown",
   "id": "c74c22a2",
   "metadata": {},
   "source": [
    "1. For this analysis, we aren't examining in-game performances. Therefore, any fields related to objective distances and percentages are removed.\n",
    "<br>\n",
    "2. Certain fields used to calculate length values are removed.\n",
    "<br>\n",
    "3. Outcome fields featured in the original data layout have been replaced by team-specific outcome fields."
   ]
  },
  {
   "cell_type": "code",
   "execution_count": 20,
   "id": "b4eb00db",
   "metadata": {},
   "outputs": [
    {
     "name": "stdout",
     "output_type": "stream",
     "text": [
      "Index(['stage', 'match_id', 'game_number', 'map_name', 'map_round',\n",
      "       'control_round_name', 'map_type', 'team_name', 'date',\n",
      "       'round_length_sec', 'game_length_sec', 'match_length_sec',\n",
      "       'opposing_team_name', 'map_side', 'round_end_score', 'match_outcome',\n",
      "       'map_outcome'],\n",
      "      dtype='object')\n"
     ]
    }
   ],
   "source": [
    "map_stats_v2_trim = map_stats_v2.drop([\n",
    "        'round_start_time', # Used in round length calculations\n",
    "        'round_end_time', # Used in round length calculations\n",
    "        'match_winner', # Replaced by 'match_outcome'\n",
    "        'map_winner', # Replaced by 'map_outcome'\n",
    "        'map_loser', # Replaced by 'map_outcome'\n",
    "        'winning_team_final_map_score', # Not needed for analysis\n",
    "        'losing_team_final_map_score', # Not needed for analysis\n",
    "        'Attacker', # Replaced by 'map_side'\n",
    "        'Defender', # Replaced by 'map_side'\n",
    "        'team_one_name', # Used to designate 'team_name' & 'opposing_team_name'\n",
    "        'team_two_name', # Used to designate 'team_name' & 'opposing_team_name'\n",
    "        'attacker_payload_distance', # Not needed for analysis\n",
    "        'defender_payload_distance', # Not needed for analysis\n",
    "        'attacker_time_banked', # Not needed for analysis\n",
    "        'defender_time_banked', # Not needed for analysis\n",
    "        'attacker_control_perecent', # Not needed for analysis\n",
    "        'defender_control_perecent', # Not needed for analysis\n",
    "        'attacker_round_end_score', # Not needed for analysis\n",
    "        'defender_round_end_score', # Not needed for analysis\n",
    "        'min_round_start_time', # Replaced by 'date'\n",
    "        'round_start_time_dt', # Used in round length calculations\n",
    "        'round_end_time_dt', # Used in round length calculations\n",
    "        'year'], axis=1) # Used to trim dataset. See step 2.\n",
    "\n",
    "print(map_stats_v2_trim.columns)"
   ]
  },
  {
   "cell_type": "code",
   "execution_count": 21,
   "id": "ad4bffdb",
   "metadata": {
    "scrolled": true
   },
   "outputs": [
    {
     "name": "stdout",
     "output_type": "stream",
     "text": [
      "Index(['date', 'stage', 'team_name', 'opposing_team_name', 'match_id',\n",
      "       'match_outcome', 'match_length_sec', 'game_number', 'game_length_sec',\n",
      "       'map_name', 'control_round_name', 'map_type', 'map_outcome',\n",
      "       'map_round', 'map_side', 'round_length_sec', 'round_end_score'],\n",
      "      dtype='object')\n"
     ]
    }
   ],
   "source": [
    "# Reorder table fields\n",
    "map_stats_final = map_stats_v2_trim[['date',\n",
    "                                     'stage',\n",
    "                                     'team_name',\n",
    "                                     'opposing_team_name',\n",
    "                                     'match_id',\n",
    "                                     'match_outcome',\n",
    "                                     'match_length_sec',\n",
    "                                     'game_number',\n",
    "                                     'game_length_sec',\n",
    "                                     'map_name',\n",
    "                                     'control_round_name',\n",
    "                                     'map_type',\n",
    "                                     'map_outcome',\n",
    "                                     'map_round',\n",
    "                                     'map_side',\n",
    "                                     'round_length_sec',\n",
    "                                     'round_end_score']]\n",
    "\n",
    "# Validate new field ordering\n",
    "print(map_stats_final.columns)"
   ]
  },
  {
   "cell_type": "markdown",
   "id": "8f4e6e06",
   "metadata": {},
   "source": [
    "### Step 7. Export the final version of the 'Map Stats' dataset"
   ]
  },
  {
   "cell_type": "markdown",
   "id": "5e785d3b",
   "metadata": {},
   "source": [
    "The final dataframe is converted back into a comma-seperated dataset, ready to be used in Tableau as its main data source."
   ]
  },
  {
   "cell_type": "code",
   "execution_count": 22,
   "id": "fd281100",
   "metadata": {},
   "outputs": [],
   "source": [
    "# Final dataframe -> File used as data source in Tableau\n",
    "map_stats_final.to_csv('map_stats_final.csv', index=False)"
   ]
  },
  {
   "cell_type": "markdown",
   "id": "b106a87d",
   "metadata": {},
   "source": [
    "## Final Output\n",
    "\n",
    "- Final 'Map Stats' dataset: [map_stats_final.csv](https://github.com/TonyBoudro/owl-project/blob/main/map_stats_final.csv) (To download, right click 'Raw' from the code block and 'Save link as...')\n",
    "- Final Tableau dashboard: [OWL 2018 Team-Specific Statistics](https://public.tableau.com/app/profile/anthony.boudreau/viz/OverwatchLeagueProject/OWL2018T-SStats)"
   ]
  },
  {
   "cell_type": "markdown",
   "id": "1ff4c10a",
   "metadata": {},
   "source": [
    "<!-- ## Dashboard Details -->"
   ]
  },
  {
   "cell_type": "markdown",
   "id": "1854b2b0",
   "metadata": {},
   "source": [
    "<!-- ### Filters & Metrics\n",
    "\n",
    "[Return to Project Overview](#Overwatch-League-Project)\n",
    "\n",
    "#### Filters\n",
    "\n",
    "<!-- [Team]: Selecting one of the team icons at the top of the dashboard filters results by team.\n",
    "[Stage]: Drop-down list of the four stages during the 2018 season. Stage selections include stage matches and title matches specific to the stage number.\n",
    "[Stage- Details]: Championship results can only be viewed when clearing the filter. -->\n",
    "\n",
    "<!-- |Name | Description | Selection Type | Special details |\n",
    "|:--  | :--         | :--            | :--             |\n",
    "| Team  | Selecting one of the team icons at the top of the dashboard filters results by team. | Single-select only          |                  |\n",
    "| Stage | Drop-down list of the four stages during the 2018 season. Stage selections include stage matches and title matches specific to the stage number. | Multiple selections enabled | Championship results can only be viewed when clearing the filter. | -->\n",
    "\n",
    "<!-- #### Metrics -->\n",
    "\n",
    "<!-- [Match winrate per stage]: \n",
    "[Map winrate by map type]: \n",
    "[Match record through Time]: \n",
    "[Average map length]: \n",
    "[Average match length]: \n",
    "[Tiebreakers - Number of matches]: \n",
    "[Tiebreakers - Number of wins]: \n",
    "[Tiebreakers - Number of losses]: \n",
    "[List of special League qualifications]: \n",
    "[Map record by team matchup]:  -->\n",
    "\n",
    "<!-- | Name | Result format | Tooltip Enabled? |\n",
    "| :--  | :--           | :--              |\n",
    "|Global team winrate                   | Percentage | No  |\n",
    "|Top 5 highest map winrates            | Percentage | No  |\n",
    "|Match winrate per stage               | Percentage | Yes |\n",
    "|Map winrate by map type               | Percentage | Yes |\n",
    "|Match record through Time             | Line chart | Yes |\n",
    "|Average map length                    | Numerical  | No  |\n",
    "|Average match length                  | Numerical  | No  |\n",
    "|Tiebreakers - Number of matches       | Numerical  | No  |\n",
    "|Tiebreakers - Number of wins          | Numerical  | No  |\n",
    "|Tiebreakers - Number of losses        | Numerical  | No  |\n",
    "|List of special League qualifications | Numerical  | No  |\n",
    "|Map record by team matchup            | Numerical  | Yes | -->"
   ]
  },
  {
   "cell_type": "markdown",
   "id": "1d0631eb",
   "metadata": {},
   "source": [
    "# Thank you"
   ]
  },
  {
   "cell_type": "markdown",
   "id": "81399a02",
   "metadata": {},
   "source": [
    "Creating this dashboard has been a wonderful learning experience. I want to thank [Datacamp](https://www.datacamp.com/)'s staff and instructors for the comprehensive Python courses.\n",
    "\n",
    "I am happy to answer any questions via email.\n",
    "\n",
    "- Email: <mail.saboudreau@gmail.com>\n",
    "- LinkedIn: [https://www.linkedin.com/in/anthonyboudreau/](https://www.linkedin.com/in/anthonyboudreau/)\n",
    "\n",
    "\n",
    "Cheers!\n",
    "\n",
    "- Anthony Boudreau\n",
    "\n",
    "**~ Heroes Never Die ~**"
   ]
  }
 ],
 "metadata": {
  "kernelspec": {
   "display_name": "Python 3 (ipykernel)",
   "language": "python",
   "name": "python3"
  },
  "language_info": {
   "codemirror_mode": {
    "name": "ipython",
    "version": 3
   },
   "file_extension": ".py",
   "mimetype": "text/x-python",
   "name": "python",
   "nbconvert_exporter": "python",
   "pygments_lexer": "ipython3",
   "version": "3.9.12"
  }
 },
 "nbformat": 4,
 "nbformat_minor": 5
}
